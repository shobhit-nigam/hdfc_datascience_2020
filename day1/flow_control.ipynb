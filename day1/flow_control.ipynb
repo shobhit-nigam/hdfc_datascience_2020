{
 "cells": [
  {
   "cell_type": "code",
   "execution_count": 8,
   "metadata": {},
   "outputs": [
    {
     "name": "stdout",
     "output_type": "stream",
     "text": [
      "44\n"
     ]
    }
   ],
   "source": [
    "age = int(input())"
   ]
  },
  {
   "cell_type": "code",
   "execution_count": 4,
   "metadata": {},
   "outputs": [
    {
     "name": "stdout",
     "output_type": "stream",
     "text": [
      "enter age: 39\n",
      "enter amount: 1000\n",
      "please pay  1000\n"
     ]
    }
   ],
   "source": [
    "age = int(input(\"enter age: \"))\n",
    "amount = int(input(\"enter amount: \"))\n",
    "\n",
    "if age < 21:\n",
    "    final = amount * 0.9\n",
    "    print(\"please pay \", final)\n",
    "elif age >= 21 and age <= 40:\n",
    "    final = amount\n",
    "    print(\"please pay \", final)\n",
    "elif age > 40 and age < 60:\n",
    "    final = amount * 0.95\n",
    "    print(\"please pay \", final)  \n",
    "else:\n",
    "    final = amount * 0.85\n",
    "    print(\"please pay \", final)\n",
    "    "
   ]
  },
  {
   "cell_type": "code",
   "execution_count": 7,
   "metadata": {},
   "outputs": [
    {
     "name": "stdout",
     "output_type": "stream",
     "text": [
      "enter age: 16\n",
      "enter amount: 1000\n",
      "please pay  900.0\n",
      "outside the if-else\n"
     ]
    }
   ],
   "source": [
    "age = int(input(\"enter age: \"))\n",
    "amount = int(input(\"enter amount: \"))\n",
    "\n",
    "if age < 21:\n",
    "    final = amount * 0.9\n",
    "    print(\"please pay \", final)\n",
    "elif age >= 21 and age <= 40:\n",
    "    final = amount\n",
    "    print(\"please pay \", final)\n",
    "elif age > 40 and age < 60:\n",
    "    final = amount * 0.95\n",
    "    print(\"please pay \", final)  \n",
    "else:\n",
    "    final = amount * 0.85\n",
    "    print(\"please pay \", final)\n",
    "    \n",
    "print(\"outside the if-else\")"
   ]
  },
  {
   "cell_type": "code",
   "execution_count": 9,
   "metadata": {},
   "outputs": [],
   "source": [
    "x = True\n",
    "y = False"
   ]
  },
  {
   "cell_type": "code",
   "execution_count": 10,
   "metadata": {},
   "outputs": [
    {
     "name": "stdout",
     "output_type": "stream",
     "text": [
      "hey\n"
     ]
    }
   ],
   "source": [
    "if x:\n",
    "    print(\"hey\")\n",
    "elif y:\n",
    "    print(\"hi\")\n",
    "else:\n",
    "    print(\"namaste\")"
   ]
  },
  {
   "cell_type": "code",
   "execution_count": 11,
   "metadata": {},
   "outputs": [
    {
     "name": "stdout",
     "output_type": "stream",
     "text": [
      "namaste\n"
     ]
    }
   ],
   "source": [
    "if not x:\n",
    "    print(\"hey\")\n",
    "elif y:\n",
    "    print(\"hi\")\n",
    "else:\n",
    "    print(\"namaste\")"
   ]
  },
  {
   "cell_type": "code",
   "execution_count": 12,
   "metadata": {},
   "outputs": [
    {
     "name": "stdout",
     "output_type": "stream",
     "text": [
      "vara = 8\n"
     ]
    }
   ],
   "source": [
    "vara = 8\n",
    "\n",
    "if vara<12:\n",
    "    print(\"vara =\", vara)"
   ]
  },
  {
   "cell_type": "code",
   "execution_count": 13,
   "metadata": {},
   "outputs": [
    {
     "name": "stdout",
     "output_type": "stream",
     "text": [
      "vara = 8\n",
      "vara = 9\n",
      "vara = 10\n",
      "vara = 11\n"
     ]
    }
   ],
   "source": [
    "vara = 8\n",
    "\n",
    "while vara<12:\n",
    "    print(\"vara =\", vara)\n",
    "    vara = vara+1"
   ]
  },
  {
   "cell_type": "code",
   "execution_count": 14,
   "metadata": {},
   "outputs": [],
   "source": [
    "vara = 18\n",
    "\n",
    "while vara<12:\n",
    "    print(\"vara =\", vara)\n",
    "    vara = vara+1"
   ]
  },
  {
   "cell_type": "code",
   "execution_count": 15,
   "metadata": {},
   "outputs": [
    {
     "name": "stdout",
     "output_type": "stream",
     "text": [
      "val = 0\n",
      "val = 1\n",
      "val = 2\n",
      "val = 3\n",
      "val = 4\n"
     ]
    }
   ],
   "source": [
    "for val in range(5):\n",
    "    print(\"val =\", val)"
   ]
  },
  {
   "cell_type": "code",
   "execution_count": 17,
   "metadata": {},
   "outputs": [
    {
     "name": "stdout",
     "output_type": "stream",
     "text": [
      "ttt = 0\n",
      "ttt = 1\n",
      "ttt = 2\n",
      "ttt = 3\n",
      "ttt = 4\n"
     ]
    }
   ],
   "source": [
    "for ttt in range(5):\n",
    "    print(\"ttt =\", ttt)\n",
    "    # more lengthy code"
   ]
  },
  {
   "cell_type": "code",
   "execution_count": 18,
   "metadata": {},
   "outputs": [],
   "source": [
    "lista = ['aa', 'bb', 'rr', 'uu', 'ww', 'ee', 'jj', 'dd']"
   ]
  },
  {
   "cell_type": "code",
   "execution_count": 19,
   "metadata": {},
   "outputs": [
    {
     "name": "stdout",
     "output_type": "stream",
     "text": [
      "value =  aa\n",
      "value =  bb\n",
      "value =  rr\n",
      "value =  uu\n",
      "value =  ww\n",
      "value =  ee\n",
      "value =  jj\n"
     ]
    }
   ],
   "source": [
    "for i in range(7):\n",
    "    print(\"value = \", lista[i])\n",
    "    "
   ]
  },
  {
   "cell_type": "code",
   "execution_count": 20,
   "metadata": {},
   "outputs": [],
   "source": [
    "lista = ['aa', 'bb', 'rr', 'uu', 'ww', 'ee', 'jj', 'dd']"
   ]
  },
  {
   "cell_type": "code",
   "execution_count": 21,
   "metadata": {},
   "outputs": [
    {
     "name": "stdout",
     "output_type": "stream",
     "text": [
      "value =  aa\n",
      "value =  bb\n",
      "value =  rr\n",
      "value =  uu\n",
      "value =  ww\n"
     ]
    }
   ],
   "source": [
    "for i in range(0,5):\n",
    "    print(\"value = \", lista[i])"
   ]
  },
  {
   "cell_type": "code",
   "execution_count": 22,
   "metadata": {},
   "outputs": [
    {
     "name": "stdout",
     "output_type": "stream",
     "text": [
      "ttt = 3\n",
      "ttt = 4\n",
      "ttt = 5\n",
      "ttt = 6\n",
      "ttt = 7\n",
      "ttt = 8\n"
     ]
    }
   ],
   "source": [
    "for ttt in range(3,9):\n",
    "    print(\"ttt =\", ttt)\n",
    "    # more lengthy code"
   ]
  },
  {
   "cell_type": "code",
   "execution_count": 23,
   "metadata": {},
   "outputs": [
    {
     "name": "stdout",
     "output_type": "stream",
     "text": [
      "ttt = 3\n",
      "ttt = 6\n",
      "ttt = 9\n",
      "ttt = 12\n",
      "ttt = 15\n",
      "ttt = 18\n"
     ]
    }
   ],
   "source": [
    "for ttt in range(3,19, 3):\n",
    "    print(\"ttt =\", ttt)\n",
    "    # more lengthy code"
   ]
  },
  {
   "cell_type": "code",
   "execution_count": 24,
   "metadata": {},
   "outputs": [],
   "source": [
    "lista = ['aa', 'bb', 'rr', 'uu', 'ww', 'ee', 'jj', 'dd']"
   ]
  },
  {
   "cell_type": "code",
   "execution_count": 25,
   "metadata": {},
   "outputs": [
    {
     "name": "stdout",
     "output_type": "stream",
     "text": [
      "x = aa\n",
      "x = bb\n",
      "x = rr\n",
      "x = uu\n",
      "x = ww\n",
      "x = ee\n",
      "x = jj\n",
      "x = dd\n"
     ]
    }
   ],
   "source": [
    "for x in lista:\n",
    "    print(\"x =\", x)"
   ]
  },
  {
   "cell_type": "code",
   "execution_count": 26,
   "metadata": {},
   "outputs": [],
   "source": [
    "fruit_basket = {'citrus':['oranges', 'lemons'], 'berries':'strawberry', 'tropical':'bananas'}"
   ]
  },
  {
   "cell_type": "code",
   "execution_count": 27,
   "metadata": {},
   "outputs": [
    {
     "name": "stdout",
     "output_type": "stream",
     "text": [
      "x = citrus\n",
      "x = berries\n",
      "x = tropical\n"
     ]
    }
   ],
   "source": [
    "for x in fruit_basket:\n",
    "    print(\"x =\", x)"
   ]
  },
  {
   "cell_type": "code",
   "execution_count": 28,
   "metadata": {},
   "outputs": [
    {
     "name": "stdout",
     "output_type": "stream",
     "text": [
      "x = ['oranges', 'lemons']\n",
      "x = strawberry\n",
      "x = bananas\n"
     ]
    }
   ],
   "source": [
    "for x in fruit_basket.values():\n",
    "    print(\"x =\", x)"
   ]
  },
  {
   "cell_type": "code",
   "execution_count": 29,
   "metadata": {},
   "outputs": [
    {
     "name": "stdout",
     "output_type": "stream",
     "text": [
      "x = citrus\n",
      "x = berries\n",
      "x = tropical\n"
     ]
    }
   ],
   "source": [
    "for x in fruit_basket.keys():\n",
    "    print(\"x =\", x)"
   ]
  },
  {
   "cell_type": "code",
   "execution_count": 30,
   "metadata": {},
   "outputs": [
    {
     "name": "stdout",
     "output_type": "stream",
     "text": [
      "x = citrus\n",
      "y = ['oranges', 'lemons']\n",
      "------\n",
      "x = berries\n",
      "y = strawberry\n",
      "------\n",
      "x = tropical\n",
      "y = bananas\n",
      "------\n"
     ]
    }
   ],
   "source": [
    "for x, y in fruit_basket.items():\n",
    "    print(\"x =\", x)\n",
    "    print(\"y =\", y)\n",
    "    print(\"------\")"
   ]
  },
  {
   "cell_type": "code",
   "execution_count": 31,
   "metadata": {},
   "outputs": [
    {
     "data": {
      "text/plain": [
       "dict_values([['oranges', 'lemons'], 'strawberry', 'bananas'])"
      ]
     },
     "execution_count": 31,
     "metadata": {},
     "output_type": "execute_result"
    }
   ],
   "source": [
    "fruit_basket.values()"
   ]
  },
  {
   "cell_type": "code",
   "execution_count": 32,
   "metadata": {},
   "outputs": [
    {
     "data": {
      "text/plain": [
       "[['oranges', 'lemons'], 'strawberry', 'bananas']"
      ]
     },
     "execution_count": 32,
     "metadata": {},
     "output_type": "execute_result"
    }
   ],
   "source": [
    "list(fruit_basket.values())"
   ]
  },
  {
   "cell_type": "code",
   "execution_count": 33,
   "metadata": {},
   "outputs": [
    {
     "data": {
      "text/plain": [
       "['citrus', 'berries', 'tropical']"
      ]
     },
     "execution_count": 33,
     "metadata": {},
     "output_type": "execute_result"
    }
   ],
   "source": [
    "list(fruit_basket.keys())"
   ]
  },
  {
   "cell_type": "code",
   "execution_count": 34,
   "metadata": {},
   "outputs": [],
   "source": [
    "strb = \"morning\""
   ]
  },
  {
   "cell_type": "code",
   "execution_count": 35,
   "metadata": {},
   "outputs": [
    {
     "name": "stdout",
     "output_type": "stream",
     "text": [
      "x = m\n",
      "x = o\n",
      "x = r\n",
      "x = n\n",
      "x = i\n",
      "x = n\n",
      "x = g\n"
     ]
    }
   ],
   "source": [
    "for x in strb:\n",
    "    print(\"x =\", x)"
   ]
  },
  {
   "cell_type": "code",
   "execution_count": 36,
   "metadata": {},
   "outputs": [],
   "source": [
    "new_strb = ''\n",
    "\n",
    "for x in strb:\n",
    "    new_strb = new_strb + x + \" \""
   ]
  },
  {
   "cell_type": "code",
   "execution_count": 37,
   "metadata": {},
   "outputs": [
    {
     "name": "stdout",
     "output_type": "stream",
     "text": [
      "m o r n i n g \n"
     ]
    }
   ],
   "source": [
    "print(new_strb)"
   ]
  },
  {
   "cell_type": "code",
   "execution_count": 40,
   "metadata": {},
   "outputs": [
    {
     "name": "stdout",
     "output_type": "stream",
     "text": [
      "m \n",
      "m o \n",
      "m o r \n",
      "m o r n \n",
      "m o r n i \n",
      "m o r n i n \n",
      "m o r n i n g \n"
     ]
    }
   ],
   "source": [
    "new_strb = ''\n",
    "\n",
    "for x in strb:\n",
    "    new_strb = new_strb + x + \" \"\n",
    "    print(new_strb)"
   ]
  },
  {
   "cell_type": "code",
   "execution_count": 41,
   "metadata": {},
   "outputs": [],
   "source": [
    "fruits = ['mangoes', 'apples', 'bananas', 'grapes', 'strawberries', 'kiwis']"
   ]
  },
  {
   "cell_type": "code",
   "execution_count": 42,
   "metadata": {},
   "outputs": [],
   "source": [
    "small_length = []\n",
    "large_length = []"
   ]
  },
  {
   "cell_type": "code",
   "execution_count": 43,
   "metadata": {},
   "outputs": [
    {
     "name": "stdout",
     "output_type": "stream",
     "text": [
      "x =  mangoes\n",
      "x =  apples\n",
      "x =  bananas\n",
      "x =  grapes\n",
      "x =  strawberries\n",
      "x =  kiwis\n"
     ]
    }
   ],
   "source": [
    "for x in fruits:\n",
    "    print(\"x = \", x)"
   ]
  },
  {
   "cell_type": "code",
   "execution_count": 44,
   "metadata": {},
   "outputs": [],
   "source": [
    "fruits = ['mangoes', 'apples', 'bananas', 'grapes', 'strawberries', 'kiwis']\n",
    "\n",
    "small_length = []\n",
    "large_length = [] "
   ]
  },
  {
   "cell_type": "code",
   "execution_count": 45,
   "metadata": {},
   "outputs": [],
   "source": [
    "for x in fruits:\n",
    "    if len(x) <= 6:\n",
    "        small_length.append(x)\n",
    "    else:\n",
    "        large_length.append(x)"
   ]
  },
  {
   "cell_type": "code",
   "execution_count": 46,
   "metadata": {},
   "outputs": [
    {
     "data": {
      "text/plain": [
       "['apples', 'grapes', 'kiwis']"
      ]
     },
     "execution_count": 46,
     "metadata": {},
     "output_type": "execute_result"
    }
   ],
   "source": [
    "small_length"
   ]
  },
  {
   "cell_type": "code",
   "execution_count": 47,
   "metadata": {},
   "outputs": [
    {
     "data": {
      "text/plain": [
       "['mangoes', 'bananas', 'strawberries']"
      ]
     },
     "execution_count": 47,
     "metadata": {},
     "output_type": "execute_result"
    }
   ],
   "source": [
    "large_length"
   ]
  },
  {
   "cell_type": "code",
   "execution_count": 48,
   "metadata": {},
   "outputs": [],
   "source": [
    "fruits = ['mangoes', 'apples', 'bananas', 'grapes', 'strawberries', 'kiwis']\n",
    "\n",
    "small_length = []\n",
    "large_length = [] \n",
    "\n",
    "for x in fruits[0:4]:\n",
    "    if len(x) <= 6:\n",
    "        small_length.append(x)\n",
    "    else:\n",
    "        large_length.append(x)"
   ]
  },
  {
   "cell_type": "code",
   "execution_count": 49,
   "metadata": {},
   "outputs": [
    {
     "name": "stdout",
     "output_type": "stream",
     "text": [
      "small length = ['apples', 'grapes']\n",
      "large length = ['mangoes', 'bananas']\n"
     ]
    }
   ],
   "source": [
    "print(\"small length =\", small_length)\n",
    "print(\"large length =\", large_length)"
   ]
  },
  {
   "cell_type": "code",
   "execution_count": null,
   "metadata": {},
   "outputs": [],
   "source": []
  }
 ],
 "metadata": {
  "kernelspec": {
   "display_name": "Python 3",
   "language": "python",
   "name": "python3"
  },
  "language_info": {
   "codemirror_mode": {
    "name": "ipython",
    "version": 3
   },
   "file_extension": ".py",
   "mimetype": "text/x-python",
   "name": "python",
   "nbconvert_exporter": "python",
   "pygments_lexer": "ipython3",
   "version": "3.7.7"
  }
 },
 "nbformat": 4,
 "nbformat_minor": 4
}
