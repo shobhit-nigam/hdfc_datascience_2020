{
 "cells": [
  {
   "cell_type": "code",
   "execution_count": 1,
   "metadata": {},
   "outputs": [],
   "source": [
    "import re"
   ]
  },
  {
   "cell_type": "code",
   "execution_count": 7,
   "metadata": {},
   "outputs": [
    {
     "name": "stdout",
     "output_type": "stream",
     "text": [
      "heatl\n",
      "not found\n"
     ]
    }
   ],
   "source": [
    "stra = input()\n",
    "\n",
    "pat = 'h..l'\n",
    "\n",
    "res = re.match(pat, stra)\n",
    "\n",
    "if res:\n",
    "    print(\"found\")\n",
    "else:\n",
    "    print(\"not found\")"
   ]
  },
  {
   "cell_type": "code",
   "execution_count": 10,
   "metadata": {},
   "outputs": [
    {
     "name": "stdout",
     "output_type": "stream",
     "text": [
      "hellt\n",
      "found\n"
     ]
    }
   ],
   "source": [
    "stra = input()\n",
    "\n",
    "pat = 'h..l'\n",
    "\n",
    "res = re.match(pat, stra)\n",
    "\n",
    "if res:\n",
    "    print(\"found\")\n",
    "else:\n",
    "    print(\"not found\")"
   ]
  },
  {
   "cell_type": "code",
   "execution_count": 11,
   "metadata": {},
   "outputs": [
    {
     "name": "stdout",
     "output_type": "stream",
     "text": [
      "hellt\n",
      "not found\n"
     ]
    }
   ],
   "source": [
    "stra = input()\n",
    "\n",
    "pat = 'h..l$'\n",
    "\n",
    "res = re.match(pat, stra)\n",
    "\n",
    "if res:\n",
    "    print(\"found\")\n",
    "else:\n",
    "    print(\"not found\")"
   ]
  },
  {
   "cell_type": "code",
   "execution_count": 12,
   "metadata": {},
   "outputs": [
    {
     "name": "stdout",
     "output_type": "stream",
     "text": [
      "hell\n",
      "found\n"
     ]
    }
   ],
   "source": [
    "stra = input()\n",
    "\n",
    "pat = 'h..l$'\n",
    "\n",
    "res = re.match(pat, stra)\n",
    "\n",
    "if res:\n",
    "    print(\"found\")\n",
    "else:\n",
    "    print(\"not found\")"
   ]
  },
  {
   "cell_type": "code",
   "execution_count": 13,
   "metadata": {},
   "outputs": [],
   "source": [
    "fa = open(\"one.txt\", \"r\")\n",
    "stra = fa.read()\n",
    "fa.close()"
   ]
  },
  {
   "cell_type": "code",
   "execution_count": 14,
   "metadata": {},
   "outputs": [
    {
     "name": "stdout",
     "output_type": "stream",
     "text": [
      "['5', '4', '3', '8', '8', '1', '5', '1', '2', '1', '9', '8', '5', '1', '8', '1', '4', '3', '1', '8', '9', '3', '2', '1', '8', '1', '4', '1', '9', '0']\n"
     ]
    }
   ],
   "source": [
    "pat = '\\d'\n",
    "\n",
    "result = re.findall(pat, stra)\n",
    "print(result)"
   ]
  },
  {
   "cell_type": "code",
   "execution_count": 15,
   "metadata": {},
   "outputs": [
    {
     "name": "stdout",
     "output_type": "stream",
     "text": [
      "['543', '881', '512', '198', '518', '143', '189', '321', '814', '190']\n"
     ]
    }
   ],
   "source": [
    "pat = '\\d+'\n",
    "\n",
    "result = re.findall(pat, stra)\n",
    "print(result)"
   ]
  },
  {
   "cell_type": "code",
   "execution_count": 16,
   "metadata": {},
   "outputs": [
    {
     "name": "stdout",
     "output_type": "stream",
     "text": [
      "['8815', '198', '518', '1894', '2321', '814']\n"
     ]
    }
   ],
   "source": [
    "fa = open(\"three.txt\", \"r\")\n",
    "stra = fa.read()\n",
    "fa.close()\n",
    "\n",
    "pat = '\\d{3,4}'\n",
    "\n",
    "result = re.findall(pat, stra)\n",
    "print(result)"
   ]
  },
  {
   "cell_type": "code",
   "execution_count": 18,
   "metadata": {},
   "outputs": [
    {
     "name": "stdout",
     "output_type": "stream",
     "text": [
      "dft 54 hyt ###\n",
      "sty 12 sct ###\n",
      "qet ### jtt 43\n",
      "frt ### sdt ###\n",
      "hty ### ijk 13\n"
     ]
    }
   ],
   "source": [
    "fa = open(\"three.txt\", \"r\")\n",
    "stra = fa.read()\n",
    "fa.close()\n",
    "\n",
    "pat = '\\d{3,4}'\n",
    "rep = '###'\n",
    "\n",
    "result = re.sub(pat, rep, stra)\n",
    "print(result)"
   ]
  },
  {
   "cell_type": "code",
   "execution_count": 19,
   "metadata": {},
   "outputs": [
    {
     "name": "stdout",
     "output_type": "stream",
     "text": [
      "dft ### hyt ###\n",
      "sty ### sct ###\n",
      "qet ### jtt ###\n",
      "frt ### sdt ###\n",
      "hty ### ijk ###\n"
     ]
    }
   ],
   "source": [
    "fa = open(\"three.txt\", \"r\")\n",
    "stra = fa.read()\n",
    "fa.close()\n",
    "\n",
    "pat = '\\d+'\n",
    "rep = '###'\n",
    "\n",
    "result = re.sub(pat, rep, stra)\n",
    "print(result)"
   ]
  },
  {
   "cell_type": "code",
   "execution_count": 21,
   "metadata": {},
   "outputs": [
    {
     "name": "stdout",
     "output_type": "stream",
     "text": [
      "### 54 ### 8815\n",
      "### 12 ### 198\n",
      "### 518 ### 43\n",
      "### 1894 ### 2321\n",
      "### 814 ### 13\n"
     ]
    }
   ],
   "source": [
    "fa = open(\"three.txt\", \"r\")\n",
    "stra = fa.read()\n",
    "fa.close()\n",
    "\n",
    "pat = '[a-z]+'\n",
    "rep = '###'\n",
    "\n",
    "result = re.sub(pat, rep, stra)\n",
    "print(result)"
   ]
  },
  {
   "cell_type": "code",
   "execution_count": null,
   "metadata": {},
   "outputs": [],
   "source": []
  }
 ],
 "metadata": {
  "kernelspec": {
   "display_name": "Python 3",
   "language": "python",
   "name": "python3"
  },
  "language_info": {
   "codemirror_mode": {
    "name": "ipython",
    "version": 3
   },
   "file_extension": ".py",
   "mimetype": "text/x-python",
   "name": "python",
   "nbconvert_exporter": "python",
   "pygments_lexer": "ipython3",
   "version": "3.7.7"
  }
 },
 "nbformat": 4,
 "nbformat_minor": 4
}
