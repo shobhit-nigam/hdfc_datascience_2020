{
 "cells": [
  {
   "cell_type": "code",
   "execution_count": 1,
   "metadata": {},
   "outputs": [],
   "source": [
    "fa = open(\"one.txt\", \"r\")\n",
    "stra = fa.read()\n",
    "fa.close()"
   ]
  },
  {
   "cell_type": "code",
   "execution_count": 2,
   "metadata": {},
   "outputs": [],
   "source": [
    "lista = stra.splitlines()"
   ]
  },
  {
   "cell_type": "code",
   "execution_count": 3,
   "metadata": {},
   "outputs": [
    {
     "data": {
      "text/plain": [
       "['dft 543 hyt 881',\n",
       " 'sty 512 sct 198',\n",
       " 'qet 518 jtt 143',\n",
       " 'frt 189 sdt 321',\n",
       " 'hty 814 ijk 190']"
      ]
     },
     "execution_count": 3,
     "metadata": {},
     "output_type": "execute_result"
    }
   ],
   "source": [
    "lista"
   ]
  },
  {
   "cell_type": "code",
   "execution_count": 4,
   "metadata": {},
   "outputs": [
    {
     "name": "stdout",
     "output_type": "stream",
     "text": [
      "dft 543 hyt 881\n",
      "----\n",
      "sty 512 sct 198\n",
      "----\n",
      "qet 518 jtt 143\n",
      "----\n",
      "frt 189 sdt 321\n",
      "----\n",
      "hty 814 ijk 190\n",
      "----\n"
     ]
    }
   ],
   "source": [
    "for line in lista:\n",
    "    print(line)\n",
    "    print(\"----\")"
   ]
  },
  {
   "cell_type": "code",
   "execution_count": 5,
   "metadata": {},
   "outputs": [
    {
     "name": "stdout",
     "output_type": "stream",
     "text": [
      "543\n",
      "512\n",
      "518\n",
      "189\n",
      "814\n"
     ]
    }
   ],
   "source": [
    "for line in lista:\n",
    "    tempa = line.split()\n",
    "    print(tempa[1])"
   ]
  },
  {
   "cell_type": "code",
   "execution_count": 6,
   "metadata": {},
   "outputs": [
    {
     "name": "stdout",
     "output_type": "stream",
     "text": [
      "hyt\n",
      "sct\n",
      "jtt\n",
      "sdt\n",
      "ijk\n"
     ]
    }
   ],
   "source": [
    "for line in lista:\n",
    "    tempa = line.split()\n",
    "    print(tempa[2])"
   ]
  },
  {
   "cell_type": "code",
   "execution_count": 7,
   "metadata": {},
   "outputs": [],
   "source": [
    "list_col = []\n",
    "\n",
    "for line in lista:\n",
    "    tempa = line.split()\n",
    "    list_col.append(tempa[2])"
   ]
  },
  {
   "cell_type": "code",
   "execution_count": 8,
   "metadata": {},
   "outputs": [
    {
     "data": {
      "text/plain": [
       "['hyt', 'sct', 'jtt', 'sdt', 'ijk']"
      ]
     },
     "execution_count": 8,
     "metadata": {},
     "output_type": "execute_result"
    }
   ],
   "source": [
    "list_col"
   ]
  },
  {
   "cell_type": "code",
   "execution_count": 10,
   "metadata": {},
   "outputs": [
    {
     "name": "stdout",
     "output_type": "stream",
     "text": [
      "['543', '512', '518', '189', '814']\n"
     ]
    }
   ],
   "source": [
    "fa = open(\"one.txt\", \"r\")\n",
    "stra = fa.read()\n",
    "fa.close()\n",
    "\n",
    "list_col = []\n",
    "\n",
    "for line in lista:\n",
    "    tempa = line.split()\n",
    "    list_col.append(tempa[1])\n",
    "    \n",
    "print(list_col)"
   ]
  },
  {
   "cell_type": "code",
   "execution_count": null,
   "metadata": {},
   "outputs": [],
   "source": []
  }
 ],
 "metadata": {
  "kernelspec": {
   "display_name": "Python 3",
   "language": "python",
   "name": "python3"
  },
  "language_info": {
   "codemirror_mode": {
    "name": "ipython",
    "version": 3
   },
   "file_extension": ".py",
   "mimetype": "text/x-python",
   "name": "python",
   "nbconvert_exporter": "python",
   "pygments_lexer": "ipython3",
   "version": "3.7.7"
  }
 },
 "nbformat": 4,
 "nbformat_minor": 4
}
